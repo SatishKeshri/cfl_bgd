{
 "cells": [
  {
   "cell_type": "markdown",
   "metadata": {},
   "source": [
    "+ 10 epochs"
   ]
  },
  {
   "cell_type": "code",
   "execution_count": 1,
   "metadata": {},
   "outputs": [
    {
     "name": "stdout",
     "output_type": "stream",
     "text": [
      "sgd_e10: 43.87\n",
      "bgd_e10_wthout_gc: 32.45\n",
      "bgd_e10_with_gc: 32.44\n"
     ]
    }
   ],
   "source": [
    "import numpy as np\n",
    "\n",
    "sgd_e10 =  np.mean([11.21, 12.86, 13.8, 15.03, 12.06, 38.91, 56.35, 84.3, 96.2, 97.97])\n",
    "bgd_e10_wo_gc =  np.mean([9.68, 8.49, 12.01, 14.19, 17.09, 28.86, 33.26, 43.37, 69.18, 88.39])\n",
    "bgd_e10_w_gc =  np.mean([[10.24, 13.3, 14.23, 14.24, 16.14, 15.4, 35.64, 37.96, 71.28, 95.99]])\n",
    "\n",
    "print(f'sgd_e10: {round(sgd_e10,2)}\\nbgd_e10_wthout_gc: {round(bgd_e10_wo_gc,2)}\\nbgd_e10_with_gc: {round(bgd_e10_w_gc,2)}')"
   ]
  },
  {
   "cell_type": "markdown",
   "metadata": {},
   "source": [
    "+ 20 epochs"
   ]
  },
  {
   "cell_type": "code",
   "execution_count": 2,
   "metadata": {},
   "outputs": [
    {
     "name": "stdout",
     "output_type": "stream",
     "text": [
      "sgd_e20: 35.37\n",
      "bgd_e_20: 38.0\n"
     ]
    }
   ],
   "source": [
    "sgd_e20 =  np.mean([7.52, 12.15, 9.99, 11.15, 9.67, 19.26, 32.54, 59.04, 94.24, 98.12])\n",
    "bgd_e20 =  np.mean([14.25, 13.63, 11.88, 16.45, 18.7, 26.77, 31.9, 64.39, 85.51, 96.54])\n",
    "\n",
    "print(f'sgd_e20: {round(sgd_e20,2)}\\nbgd_e_20: {round(bgd_e20,2)}')"
   ]
  },
  {
   "cell_type": "markdown",
   "metadata": {},
   "source": [
    "+ 30 epochs"
   ]
  },
  {
   "cell_type": "code",
   "execution_count": 3,
   "metadata": {},
   "outputs": [
    {
     "name": "stdout",
     "output_type": "stream",
     "text": [
      "sgd_e30: 29.48\n",
      "bgd_e_30: 38.4\n"
     ]
    }
   ],
   "source": [
    "sgd_e30 =  np.mean([7.7, 10.03, 10.05, 9.94, 9.73, 15.08, 16.95, 30.49, 86.78, 98.07])\n",
    "bgd_e30 =  np.mean([[12.04, 10.24, 16.39, 14.16, 18.55, 24.49, 50.67, 50.95, 89.79, 96.68]])\n",
    "\n",
    "print(f'sgd_e30: {round(sgd_e30,2)}\\nbgd_e_30: {round(bgd_e30,2)}')"
   ]
  },
  {
   "cell_type": "code",
   "execution_count": null,
   "metadata": {},
   "outputs": [],
   "source": []
  }
 ],
 "metadata": {
  "kernelspec": {
   "display_name": "my_new_env",
   "language": "python",
   "name": "python3"
  },
  "language_info": {
   "codemirror_mode": {
    "name": "ipython",
    "version": 3
   },
   "file_extension": ".py",
   "mimetype": "text/x-python",
   "name": "python",
   "nbconvert_exporter": "python",
   "pygments_lexer": "ipython3",
   "version": "3.9.0"
  }
 },
 "nbformat": 4,
 "nbformat_minor": 2
}
